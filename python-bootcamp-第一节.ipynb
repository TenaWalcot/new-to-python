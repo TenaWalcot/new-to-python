{
 "cells": [
  {
   "cell_type": "markdown",
   "metadata": {},
   "source": [
    "# Python 01"
   ]
  },
  {
   "cell_type": "markdown",
   "metadata": {},
   "source": [
    "## Python 的特点\n",
    "- 使用范围广\n",
    "- 入门简单，上手容易 \n",
    "- 各方面相对平衡的语言，而且有很多功能强大的包\n",
    "  - data analysis (Numpy, Pandas)\n",
    "  - machine learning (Scikit-learn(sklearn))\n",
    "  - deep learning深度学习 【Tensorflow（写法更加基础）, Keras, Pytorch（图像识别）】\n",
    "  - natural language processing (NLTK 包)对于文字分析，文本挖掘\n",
    "  - web (Flask写API, Django)网页框架编写\n",
    "  "
   ]
  },
  {
   "cell_type": "markdown",
   "metadata": {},
   "source": [
    "## 下载/运行Python的几个方式\n",
    "-  Python\n",
    "<img src=\"python icon.png\",width=500,height=500>\n",
    "-  Anaconda ---jupyter notebook\n",
    "<img src=\"anaconda icon.png\",width=500,height=400>\n",
    "-  PyCharm \n",
    "<img src=\"pycharm icon.png\",width=300,height=300>"
   ]
  },
  {
   "cell_type": "markdown",
   "metadata": {},
   "source": [
    "## 如何使用jupyter notebook\n",
    "- 怎么用terminal/cmd打开jupyter notebook\n",
    "- jupyter notebook的默认路径 (notebook所在文件夹，在同一个文件夹里的文件可以直接读取)\n",
    "- jupyter 快捷键 【详细解释每一个快捷键】shift+enter显示输出结果\n",
    "- jupyter markdown 这一行是注释、解释说明的类型出现在Notebook里，#号+空格 注释，"
   ]
  },
  {
   "cell_type": "markdown",
   "metadata": {},
   "source": [
    "https://blog.csdn.net/create115721/article/details/79243641"
   ]
  },
  {
   "cell_type": "markdown",
   "metadata": {},
   "source": [
    "## 如何在jupyter上面装包"
   ]
  },
  {
   "cell_type": "code",
   "execution_count": 30,
   "metadata": {},
   "outputs": [
    {
     "name": "stdout",
     "output_type": "stream",
     "text": [
      "Requirement already satisfied: numpy in /anaconda/lib/python3.6/site-packages (1.14.2)\n",
      "\u001b[33mYou are using pip version 18.0, however version 18.1 is available.\n",
      "You should consider upgrading via the 'pip install --upgrade pip' command.\u001b[0m\n"
     ]
    }
   ],
   "source": [
    "!pip install --user numpy #（--user可用可不用，安装时看情况）\n",
    "#pandas#matplotlib"
   ]
  },
  {
   "cell_type": "code",
   "execution_count": 34,
   "metadata": {},
   "outputs": [
    {
     "name": "stdout",
     "output_type": "stream",
     "text": [
      "Collecting pip\n",
      "\u001b[?25l  Downloading https://files.pythonhosted.org/packages/c2/d7/90f34cb0d83a6c5631cf71dfe64cc1054598c843a92b400e55675cc2ac37/pip-18.1-py2.py3-none-any.whl (1.3MB)\n",
      "\u001b[K    100% |████████████████████████████████| 1.3MB 6.2MB/s eta 0:00:01\n",
      "\u001b[?25hInstalling collected packages: pip\n",
      "  Found existing installation: pip 18.0\n",
      "    Uninstalling pip-18.0:\n",
      "      Successfully uninstalled pip-18.0\n",
      "Successfully installed pip-18.1\n"
     ]
    }
   ],
   "source": [
    "!pip install --upgrade pip #升级包（——upgrade 后面跟你要升级的特定的包）"
   ]
  },
  {
   "cell_type": "markdown",
   "metadata": {},
   "source": [
    "## 打印Hello World 😎"
   ]
  },
  {
   "cell_type": "code",
   "execution_count": 3,
   "metadata": {},
   "outputs": [
    {
     "name": "stdout",
     "output_type": "stream",
     "text": [
      "Hello world!\n"
     ]
    }
   ],
   "source": [
    "print('Hello world!')"
   ]
  },
  {
   "cell_type": "code",
   "execution_count": 4,
   "metadata": {},
   "outputs": [
    {
     "data": {
      "text/plain": [
       "'Hello world!'"
      ]
     },
     "execution_count": 4,
     "metadata": {},
     "output_type": "execute_result"
    }
   ],
   "source": [
    "'Hello world!' #每一行都要打print，否则只会输出最后一行"
   ]
  },
  {
   "cell_type": "markdown",
   "metadata": {},
   "source": [
    "## 基本数据类型\n",
    "- 整数 Integer: 1,2,3\n",
    "- 浮点数/小数 Float: 1.23\n",
    "- 字符串 String: \"123\"\n",
    "- 逻辑型变量 Bool: True/False"
   ]
  },
  {
   "cell_type": "code",
   "execution_count": 5,
   "metadata": {
    "collapsed": true
   },
   "outputs": [],
   "source": [
    "# 使用type 来查看数据类型"
   ]
  },
  {
   "cell_type": "code",
   "execution_count": 6,
   "metadata": {},
   "outputs": [
    {
     "data": {
      "text/plain": [
       "int"
      ]
     },
     "execution_count": 6,
     "metadata": {},
     "output_type": "execute_result"
    }
   ],
   "source": [
    "x = 1\n",
    "type(x) #查看X的数据类型"
   ]
  },
  {
   "cell_type": "code",
   "execution_count": 7,
   "metadata": {},
   "outputs": [
    {
     "data": {
      "text/plain": [
       "float"
      ]
     },
     "execution_count": 7,
     "metadata": {},
     "output_type": "execute_result"
    }
   ],
   "source": [
    "x = 1.2\n",
    "type(x)"
   ]
  },
  {
   "cell_type": "code",
   "execution_count": 8,
   "metadata": {},
   "outputs": [
    {
     "data": {
      "text/plain": [
       "str"
      ]
     },
     "execution_count": 8,
     "metadata": {},
     "output_type": "execute_result"
    }
   ],
   "source": [
    "x = \"1\"\n",
    "type(x)"
   ]
  },
  {
   "cell_type": "code",
   "execution_count": 9,
   "metadata": {},
   "outputs": [
    {
     "data": {
      "text/plain": [
       "bool"
      ]
     },
     "execution_count": 9,
     "metadata": {},
     "output_type": "execute_result"
    }
   ],
   "source": [
    "x = True #只有首字母大写，全部大写python是无法识别的。已经默认的语言，敲打正确会显示为绿色。\n",
    "type(x)"
   ]
  },
  {
   "cell_type": "markdown",
   "metadata": {},
   "source": [
    "##### python 中变量的命名规则:\n",
    "- 1.变量的名字的第 1 个字符必须是字母或下划线(_)\n",
    "- 2.变量的名字的第 1 个字符后边可以使由字母、下划线(_)、或数字(0~9) 组成\n",
    "- 3.变量的名字是区分大小写的，也就是说 Score 和 score 是不同的\n",
    "- 4.在 python 中对变量进行赋值时，使用单引号和双引号的效果是完全一样的\n",
    "- 5.python 中已经被使用的一些关键字不能用于声明变量"
   ]
  },
  {
   "cell_type": "markdown",
   "metadata": {},
   "source": [
    "## 给一个变量赋值\n",
    "- Assignment : ="
   ]
  },
  {
   "cell_type": "code",
   "execution_count": 10,
   "metadata": {},
   "outputs": [
    {
     "data": {
      "text/plain": [
       "1"
      ]
     },
     "execution_count": 10,
     "metadata": {},
     "output_type": "execute_result"
    }
   ],
   "source": [
    "x = 1\n",
    "x"
   ]
  },
  {
   "cell_type": "code",
   "execution_count": 11,
   "metadata": {},
   "outputs": [
    {
     "name": "stdout",
     "output_type": "stream",
     "text": [
      "x: 1\n",
      "y: 5\n",
      "z: 3\n"
     ]
    }
   ],
   "source": [
    "x, y, z = 1,5,3 #等号两边长度一样，就会依次赋值\n",
    "print('x:',x)\n",
    "print('y:',y)\n",
    "print('z:',z)"
   ]
  },
  {
   "cell_type": "code",
   "execution_count": 12,
   "metadata": {},
   "outputs": [
    {
     "name": "stdout",
     "output_type": "stream",
     "text": [
      "x: 1 <class 'int'>\n",
      "y: 2 <class 'int'>\n"
     ]
    }
   ],
   "source": [
    "x,y = [1,2] #右边是一个列表\n",
    "print('x:',x,type(x))\n",
    "print('y:',y,type(y))"
   ]
  },
  {
   "cell_type": "code",
   "execution_count": 1,
   "metadata": {},
   "outputs": [
    {
     "name": "stdout",
     "output_type": "stream",
     "text": [
      "x: 1 <class 'int'>\n",
      "y: 2.2 <class 'float'>\n"
     ]
    }
   ],
   "source": [
    "x,y = [1,2.2] #右边是一个列表\n",
    "print('x:',x,type(x))\n",
    "print('y:',y,type(y))"
   ]
  },
  {
   "cell_type": "code",
   "execution_count": 13,
   "metadata": {},
   "outputs": [
    {
     "name": "stdout",
     "output_type": "stream",
     "text": [
      "x: 1 <class 'str'>\n",
      "y: 2 <class 'str'>\n"
     ]
    }
   ],
   "source": [
    "x,y = '12'# x= '1'; y = '2',只要长度相同即可\n",
    "print('x:',x,type(x))\n",
    "print('y:',y,type(y))"
   ]
  },
  {
   "cell_type": "markdown",
   "metadata": {},
   "source": [
    "## 变量之间的比较会返回一个逻辑变量\n",
    "- Comparison : ==; !=; >; <"
   ]
  },
  {
   "cell_type": "code",
   "execution_count": 15,
   "metadata": {},
   "outputs": [
    {
     "data": {
      "text/plain": [
       "True"
      ]
     },
     "execution_count": 15,
     "metadata": {},
     "output_type": "execute_result"
    }
   ],
   "source": [
    "3 == 3 # ==：左边和右边是否完全相等"
   ]
  },
  {
   "cell_type": "code",
   "execution_count": 16,
   "metadata": {},
   "outputs": [
    {
     "data": {
      "text/plain": [
       "True"
      ]
     },
     "execution_count": 16,
     "metadata": {},
     "output_type": "execute_result"
    }
   ],
   "source": [
    "bbb = 1\n",
    "bbb != 3 #对最后一行语句进行判断"
   ]
  },
  {
   "cell_type": "code",
   "execution_count": 2,
   "metadata": {},
   "outputs": [
    {
     "ename": "NameError",
     "evalue": "name 'ccc' is not defined",
     "traceback": [
      "\u001b[1;31m---------------------------------------------------------------------------\u001b[0m",
      "\u001b[1;31mNameError\u001b[0m                                 Traceback (most recent call last)",
      "\u001b[1;32m<ipython-input-2-7b0678eb7e62>\u001b[0m in \u001b[0;36m<module>\u001b[1;34m\u001b[0m\n\u001b[0;32m      1\u001b[0m \u001b[0mbbb\u001b[0m \u001b[1;33m=\u001b[0m \u001b[1;36m1\u001b[0m\u001b[1;33m\u001b[0m\u001b[1;33m\u001b[0m\u001b[0m\n\u001b[1;32m----> 2\u001b[1;33m \u001b[0mccc\u001b[0m \u001b[1;33m!=\u001b[0m \u001b[1;36m3\u001b[0m\u001b[1;33m\u001b[0m\u001b[1;33m\u001b[0m\u001b[0m\n\u001b[0m",
      "\u001b[1;31mNameError\u001b[0m: name 'ccc' is not defined"
     ],
     "output_type": "error"
    }
   ],
   "source": [
    "bbb = 1\n",
    "ccc != 3 #没有对ccc进行命名过，出现NameError命名错误，python中所有要运用的变量必须先进行赋值"
   ]
  },
  {
   "cell_type": "markdown",
   "metadata": {},
   "source": [
    "## 数据类型的转换\n",
    "- str()\n",
    "- float()\n",
    "- int()"
   ]
  },
  {
   "cell_type": "code",
   "execution_count": 17,
   "metadata": {},
   "outputs": [
    {
     "data": {
      "text/plain": [
       "'1'"
      ]
     },
     "execution_count": 17,
     "metadata": {},
     "output_type": "execute_result"
    }
   ],
   "source": [
    "x = 1\n",
    "y = str(x) #str = string\n",
    "y"
   ]
  },
  {
   "cell_type": "code",
   "execution_count": 18,
   "metadata": {},
   "outputs": [
    {
     "data": {
      "text/plain": [
       "1.0"
      ]
     },
     "execution_count": 18,
     "metadata": {},
     "output_type": "execute_result"
    }
   ],
   "source": [
    "y = float(x)\n",
    "y"
   ]
  },
  {
   "cell_type": "code",
   "execution_count": 19,
   "metadata": {},
   "outputs": [
    {
     "data": {
      "text/plain": [
       "1"
      ]
     },
     "execution_count": 19,
     "metadata": {},
     "output_type": "execute_result"
    }
   ],
   "source": [
    "y = 1.6\n",
    "int(y) #取整数部分"
   ]
  },
  {
   "cell_type": "code",
   "execution_count": 20,
   "metadata": {},
   "outputs": [
    {
     "data": {
      "text/plain": [
       "1.0"
      ]
     },
     "execution_count": 20,
     "metadata": {},
     "output_type": "execute_result"
    }
   ],
   "source": [
    "y = '1'\n",
    "float(y) "
   ]
  },
  {
   "cell_type": "code",
   "execution_count": null,
   "metadata": {
    "collapsed": true
   },
   "outputs": [],
   "source": []
  },
  {
   "cell_type": "code",
   "execution_count": 3,
   "metadata": {
    "collapsed": true
   },
   "outputs": [],
   "source": [
    "# pandas\n",
    "# matplotlib"
   ]
  },
  {
   "cell_type": "code",
   "execution_count": 2,
   "metadata": {
    "collapsed": true
   },
   "outputs": [],
   "source": [
    "import numpy as np\n",
    "import pandas as pd\n",
    "import matplotlib"
   ]
  },
  {
   "cell_type": "markdown",
   "metadata": {},
   "source": [
    "## 使用open 读取文件"
   ]
  },
  {
   "cell_type": "code",
   "execution_count": 8,
   "metadata": {},
   "outputs": [
    {
     "name": "stdout",
     "output_type": "stream",
     "text": [
      ",A,B,C,D\n",
      "0,foo,one,small,1\n",
      "1,foo,one,large,2\n",
      "2,foo,one,large,8\n",
      "3,foo,two,small,3\n",
      "4,foo,two,small,3\n",
      "5,bar,one,large,4\n",
      "6,bar,one,small,5\n",
      "7,bar,two,small,6\n",
      "8,bar,two,large,7\n",
      "\n"
     ]
    }
   ],
   "source": [
    "file = open('data.txt','r') #左边是文件的名字，‘r’为read.\n",
    "print(file.read())\n",
    "# print(file)\n",
    "# for line in file:\n",
    "#     print(line)"
   ]
  },
  {
   "cell_type": "code",
   "execution_count": 2,
   "metadata": {},
   "outputs": [
    {
     "name": "stdout",
     "output_type": "stream",
     "text": [
      "[',A,B,C,D\\n', '0,foo,one,small,1\\n', '1,foo,one,large,2\\n', '2,foo,one,large,8\\n', '3,foo,two,small,3\\n', '4,foo,two,small,3\\n', '5,bar,one,large,4\\n', '6,bar,one,small,5\\n', '7,bar,two,small,6\\n', '8,bar,two,large,7\\n']\n"
     ]
    }
   ],
   "source": [
    "file = open('/Users/wenwen/Desktop/data.txt','r') #与notebook不在同一文件夹时需要写全路径\n",
    "print(file.readlines())"
   ]
  },
  {
   "cell_type": "code",
   "execution_count": 31,
   "metadata": {},
   "outputs": [
    {
     "name": "stdout",
     "output_type": "stream",
     "text": [
      "read line 1\n",
      ",A,B,C,D\n",
      "\n",
      "read line 2\n",
      "0,foo,one,small,1\n",
      "\n",
      "read line 3\n",
      "1,foo,one,large,2\n",
      "\n",
      "read line 4\n",
      "2,foo,one,large,8\n",
      "\n",
      "read line 5\n",
      "3,foo,two,small,3\n",
      "\n",
      "read line 6\n",
      "4,foo,two,small,3\n",
      "\n",
      "read line 7\n",
      "5,bar,one,large,4\n",
      "\n",
      "read line 8\n",
      "6,bar,one,small,5\n",
      "\n",
      "read line 9\n",
      "7,bar,two,small,6\n",
      "\n",
      "read line 10\n",
      "8,bar,two,large,7\n",
      "\n"
     ]
    }
   ],
   "source": [
    "file = open('data.csv','r')\n",
    "i = 1\n",
    "for line in file:\n",
    "    print('read line',i)\n",
    "    i = i+1\n",
    "    print(line)"
   ]
  },
  {
   "cell_type": "code",
   "execution_count": null,
   "metadata": {
    "collapsed": true
   },
   "outputs": [],
   "source": []
  },
  {
   "cell_type": "markdown",
   "metadata": {},
   "source": [
    "## 写入一个文件"
   ]
  },
  {
   "cell_type": "code",
   "execution_count": 40,
   "metadata": {},
   "outputs": [],
   "source": [
    "file = open('hello.txt','w') #w为write,hello.txt是你要新建的文件.\n",
    "file.write('hello world\\n') #/n是换行的意思.\n",
    "file.write('it is a sunny day')\n",
    "file.close() #表示这个文件写完了."
   ]
  },
  {
   "cell_type": "code",
   "execution_count": 42,
   "metadata": {},
   "outputs": [
    {
     "name": "stdout",
     "output_type": "stream",
     "text": [
      "hello world\n",
      "\n",
      "it is a sunny day\n"
     ]
    }
   ],
   "source": [
    "file = open('hello.txt','r') #读取文件，看刚才新建的文件夹是否写好.\n",
    "for line in file:\n",
    "    print(line)"
   ]
  },
  {
   "cell_type": "code",
   "execution_count": null,
   "metadata": {
    "collapsed": true
   },
   "outputs": [],
   "source": []
  }
 ],
 "metadata": {
  "kernelspec": {
   "display_name": "Python 3",
   "language": "python",
   "name": "python3"
  },
  "language_info": {
   "codemirror_mode": {
    "name": "ipython",
    "version": 3
   },
   "file_extension": ".py",
   "mimetype": "text/x-python",
   "name": "python",
   "nbconvert_exporter": "python",
   "pygments_lexer": "ipython3",
   "version": "3.7.1"
  }
 },
 "nbformat": 4,
 "nbformat_minor": 2
}
